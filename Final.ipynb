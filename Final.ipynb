{
 "cells": [
  {
   "cell_type": "markdown",
   "id": "d26046b4-232d-4ae1-9959-311f7ec90831",
   "metadata": {},
   "source": [
    "**Final assignment model**\n",
    "\n",
    "Yunrong Wan"
   ]
  },
  {
   "cell_type": "code",
   "execution_count": 1,
   "id": "b2652fda-7057-46bb-97c5-808a58774140",
   "metadata": {},
   "outputs": [],
   "source": [
    "import pandas as pd\n",
    "import numpy as np\n",
    "\n",
    "\n",
    "def read_data(fileid): \n",
    "    stringvariables=[\"LOAN_ID\",\"CHANNEL\", \"FIRST_TIME_HOME_BUYER_IND\",\n",
    "                  \"LOAN_PURPOSE\", \"PROPERTY_TYPE\", \"OCCUPANCY_STATUS\",\n",
    "                  \"PROPERTY_STATE\", \"ZIP_CODE_SHORT\"]\n",
    "    floatvariables=[\"NUMBER_OF_UNITS\",\"FORECLOSURE\",\"LTV\",\n",
    "                   \"NUMBER_OF_BORROWERS\",\"DTI\",\"LOAN_AGE\",\n",
    "                   \"REM_MONTHS_LEGAL_MATURITY\", \"REM_MONTHS_MATURITY\",\n",
    "                   \"ORIGINAL_LOAN_TERM\", \"CLTV\",\n",
    "                   \"B_CREDIT_SCORE_O\",\"CB_CREDIT_SCORE_O\", \"NMONTHS\",\n",
    "                   \"MSA\",\"MORTGAGE_INSURANCE_PERCENTAGE\",\n",
    "                   \"ORIGINAL_INTEREST_RATE\", \"CURRENT_INTEREST_RATE\",\n",
    "                   \"ORIGINAL_UPB\"]\n",
    "    datevariables=[\"MONTHLY_REPORTING_PERIOD\",\n",
    "                   \"ORIGINATION_DATE\",\n",
    "                   \"FIRST_PAYMENT_DATE\",\n",
    "                   \"MATURITY_DATE\"]\n",
    "    objectvariables=stringvariables + datevariables\n",
    "    dtypes={}\n",
    "    for s in objectvariables:\n",
    "        dtypes[s]=\"object\"\n",
    "    for s in floatvariables:\n",
    "        dtypes[s]=\"float\"\n",
    "    na_strings=[\"\".join([\" \" for j in range(m)]) for m in range(10)]\n",
    "    df=pd.read_csv(fileid,dtype=dtypes,na_values=na_strings)\n",
    "    for datevar in datevariables:\n",
    "        df[datevar]=pd.to_datetime(df[datevar],format=\"%m%Y\")\n",
    "    return(df)\n"
   ]
  },
  {
   "cell_type": "code",
   "execution_count": 2,
   "id": "19e3f346",
   "metadata": {},
   "outputs": [],
   "source": [
    "#loading required packages\n",
    "import numpy as np\n",
    "import pandas as pd\n",
    "import matplotlib.pyplot as plt\n",
    "import pylab as pl\n",
    "#dataset processing methods\n",
    "from sklearn.preprocessing import StandardScaler\n",
    "from sklearn.model_selection import train_test_split\n",
    "from sklearn.pipeline import Pipeline\n",
    "#loading regression methods\n",
    "from sklearn.linear_model import Ridge\n",
    "from sklearn.linear_model import LogisticRegression\n",
    "from sklearn.linear_model import Lasso\n",
    "from sklearn.linear_model import ElasticNet\n",
    "from sklearn.linear_model import LinearRegression\n",
    "from sklearn.neighbors import KNeighborsClassifier as knn\n",
    "from sklearn.discriminant_analysis import LinearDiscriminantAnalysis as lda\n",
    "from sklearn.discriminant_analysis import QuadraticDiscriminantAnalysis as qda\n",
    "from sklearn.naive_bayes import GaussianNB as gnb\n",
    "from sklearn.tree import DecisionTreeClassifier as dt\n",
    "from sklearn.ensemble import RandomForestClassifier as rf\n",
    "from sklearn.svm import SVC as svm\n",
    "import xgboost as xgb\n",
    "#evaluation methods\n",
    "from sklearn.metrics import mean_absolute_error,mean_squared_error,r2_score,accuracy_score,roc_auc_score,precision_score,recall_score\n"
   ]
  },
  {
   "cell_type": "code",
   "execution_count": 3,
   "id": "c647fd49-b6c3-42e3-9efc-253969af3b1e",
   "metadata": {},
   "outputs": [
    {
     "name": "stdout",
     "output_type": "stream",
     "text": [
      "number of foreclosure 7708.0\n",
      "NMONTHS mean: 61.042388\n",
      "MONTHLY_REPORTING_PERIOD         datetime64[ns]\n",
      "CHANNEL                                  object\n",
      "ORIGINAL_INTEREST_RATE                  float64\n",
      "CURRENT_INTEREST_RATE                   float64\n",
      "ORIGINAL_UPB                            float64\n",
      "ORIGINAL_LOAN_TERM                      float64\n",
      "ORIGINATION_DATE                 datetime64[ns]\n",
      "FIRST_PAYMENT_DATE               datetime64[ns]\n",
      "LOAN_AGE                                float64\n",
      "REM_MONTHS_LEGAL_MATURITY               float64\n",
      "REM_MONTHS_MATURITY                     float64\n",
      "MATURITY_DATE                    datetime64[ns]\n",
      "LTV                                     float64\n",
      "CLTV                                    float64\n",
      "NUMBER_OF_BORROWERS                     float64\n",
      "DTI                                     float64\n",
      "B_CREDIT_SCORE_O                        float64\n",
      "CB_CREDIT_SCORE_O                       float64\n",
      "FIRST_TIME_HOME_BUYER_IND                object\n",
      "LOAN_PURPOSE                             object\n",
      "PROPERTY_TYPE                            object\n",
      "NUMBER_OF_UNITS                         float64\n",
      "OCCUPANCY_STATUS                         object\n",
      "PROPERTY_STATE                           object\n",
      "MSA                                     float64\n",
      "ZIP_CODE_SHORT                           object\n",
      "MORTGAGE_INSURANCE_PERCENTAGE           float64\n",
      "dtype: object\n"
     ]
    }
   ],
   "source": [
    "#split the independent variables and dependent variables\n",
    "df=read_data(\"trainTLJC.csv\")\n",
    "y2 = df.FORECLOSURE\n",
    "nf = sum(y2)\n",
    "y1 = df.NMONTHS\n",
    "print(\"number of foreclosure\",nf)\n",
    "print(\"NMONTHS mean:\",np.mean(y1))\n",
    "X = df.iloc[:,1:-2]\n",
    "print(X.dtypes)\n",
    "#print(X)"
   ]
  },
  {
   "cell_type": "code",
   "execution_count": 4,
   "id": "3dd2b8b5",
   "metadata": {},
   "outputs": [
    {
     "data": {
      "text/plain": [
       "LOAN_ID                               0\n",
       "MONTHLY_REPORTING_PERIOD              0\n",
       "CHANNEL                               0\n",
       "ORIGINAL_INTEREST_RATE                0\n",
       "CURRENT_INTEREST_RATE                 5\n",
       "ORIGINAL_UPB                          0\n",
       "ORIGINAL_LOAN_TERM                    0\n",
       "ORIGINATION_DATE                      0\n",
       "FIRST_PAYMENT_DATE                    0\n",
       "LOAN_AGE                              5\n",
       "REM_MONTHS_LEGAL_MATURITY             5\n",
       "REM_MONTHS_MATURITY                   5\n",
       "MATURITY_DATE                         5\n",
       "LTV                                   0\n",
       "CLTV                               3137\n",
       "NUMBER_OF_BORROWERS                 102\n",
       "DTI                                8917\n",
       "B_CREDIT_SCORE_O                   1617\n",
       "CB_CREDIT_SCORE_O                135292\n",
       "FIRST_TIME_HOME_BUYER_IND           202\n",
       "LOAN_PURPOSE                          0\n",
       "PROPERTY_TYPE                         0\n",
       "NUMBER_OF_UNITS                       0\n",
       "OCCUPANCY_STATUS                      0\n",
       "PROPERTY_STATE                        0\n",
       "MSA                                   0\n",
       "ZIP_CODE_SHORT                        0\n",
       "MORTGAGE_INSURANCE_PERCENTAGE    208178\n",
       "FORECLOSURE                           0\n",
       "NMONTHS                               0\n",
       "dtype: int64"
      ]
     },
     "execution_count": 4,
     "metadata": {},
     "output_type": "execute_result"
    }
   ],
   "source": [
    "df.isnull().sum()"
   ]
  },
  {
   "cell_type": "code",
   "execution_count": 5,
   "id": "4bc8fca5",
   "metadata": {},
   "outputs": [],
   "source": [
    "# save all float variables\n",
    "floatcols=X.dtypes==\"float64\"\n",
    "X=X.loc[:,floatcols]\n",
    "# drop variables which miss too much data\n",
    "X=X.drop(['CB_CREDIT_SCORE_O','MORTGAGE_INSURANCE_PERCENTAGE'],axis=1)\n",
    "# save columns name\n",
    "Xdf=X"
   ]
  },
  {
   "cell_type": "code",
   "execution_count": 6,
   "id": "857c20b0",
   "metadata": {},
   "outputs": [],
   "source": [
    "# save all data variables\n",
    "daycols=df.dtypes==\"datetime64[ns]\"\n",
    "D=df.loc[:,daycols]"
   ]
  },
  {
   "cell_type": "code",
   "execution_count": 7,
   "id": "c9f8b549",
   "metadata": {},
   "outputs": [],
   "source": [
    "#impute missing data\n",
    "from sklearn.experimental import enable_iterative_imputer\n",
    "from sklearn.impute import IterativeImputer\n",
    "  \n",
    "Xim=X.values\n",
    "imp = IterativeImputer(max_iter=1000, random_state=0)\n",
    "imp=imp.fit(Xim)\n",
    "Xim=imp.transform(Xim)\n",
    "X=pd.DataFrame(Xim)\n",
    "#print(X)"
   ]
  },
  {
   "cell_type": "code",
   "execution_count": 8,
   "id": "b2584366",
   "metadata": {},
   "outputs": [
    {
     "name": "stdout",
     "output_type": "stream",
     "text": [
      "                           ORIGINAL_INTEREST_RATE  CURRENT_INTEREST_RATE  \\\n",
      "ORIGINAL_INTEREST_RATE                   1.000000               0.999940   \n",
      "CURRENT_INTEREST_RATE                    0.999940               1.000000   \n",
      "ORIGINAL_UPB                            -0.115782              -0.115791   \n",
      "ORIGINAL_LOAN_TERM                       0.375552               0.375598   \n",
      "LOAN_AGE                                 0.019756               0.019774   \n",
      "REM_MONTHS_LEGAL_MATURITY                0.375234               0.375279   \n",
      "REM_MONTHS_MATURITY                      0.373475               0.373520   \n",
      "LTV                                      0.252844               0.252854   \n",
      "CLTV                                     0.232992               0.233003   \n",
      "NUMBER_OF_BORROWERS                     -0.061727              -0.061701   \n",
      "DTI                                      0.084704               0.084748   \n",
      "B_CREDIT_SCORE_O                        -0.162449              -0.162386   \n",
      "NUMBER_OF_UNITS                          0.036092               0.036094   \n",
      "MSA                                     -0.017313              -0.017343   \n",
      "\n",
      "                           ORIGINAL_UPB  ORIGINAL_LOAN_TERM  LOAN_AGE  \\\n",
      "ORIGINAL_INTEREST_RATE        -0.115782            0.375552  0.019756   \n",
      "CURRENT_INTEREST_RATE         -0.115791            0.375598  0.019774   \n",
      "ORIGINAL_UPB                   1.000000            0.219111 -0.003212   \n",
      "ORIGINAL_LOAN_TERM             0.219111            1.000000  0.016738   \n",
      "LOAN_AGE                      -0.003212            0.016738  1.000000   \n",
      "REM_MONTHS_LEGAL_MATURITY      0.219195            0.999824 -0.001998   \n",
      "REM_MONTHS_MATURITY            0.219349            0.996824 -0.004286   \n",
      "LTV                            0.088358            0.318857 -0.001123   \n",
      "CLTV                           0.112108            0.319253 -0.000745   \n",
      "NUMBER_OF_BORROWERS            0.139874           -0.078692 -0.007218   \n",
      "DTI                            0.149201            0.148802 -0.013670   \n",
      "B_CREDIT_SCORE_O               0.041093           -0.096478 -0.004113   \n",
      "NUMBER_OF_UNITS                0.061036            0.000882  0.008671   \n",
      "MSA                            0.147889            0.030265  0.016316   \n",
      "\n",
      "                           REM_MONTHS_LEGAL_MATURITY  REM_MONTHS_MATURITY  \\\n",
      "ORIGINAL_INTEREST_RATE                      0.375234             0.373475   \n",
      "CURRENT_INTEREST_RATE                       0.375279             0.373520   \n",
      "ORIGINAL_UPB                                0.219195             0.219349   \n",
      "ORIGINAL_LOAN_TERM                          0.999824             0.996824   \n",
      "LOAN_AGE                                   -0.001998            -0.004286   \n",
      "REM_MONTHS_LEGAL_MATURITY                   1.000000             0.997042   \n",
      "REM_MONTHS_MATURITY                         0.997042             1.000000   \n",
      "LTV                                         0.318919             0.319013   \n",
      "CLTV                                        0.319308             0.319372   \n",
      "NUMBER_OF_BORROWERS                        -0.078574            -0.078409   \n",
      "DTI                                         0.149074             0.149791   \n",
      "B_CREDIT_SCORE_O                           -0.096421            -0.099030   \n",
      "NUMBER_OF_UNITS                             0.000710             0.001187   \n",
      "MSA                                         0.029955             0.030384   \n",
      "\n",
      "                                LTV      CLTV  NUMBER_OF_BORROWERS       DTI  \\\n",
      "ORIGINAL_INTEREST_RATE     0.252844  0.232992            -0.061727  0.084704   \n",
      "CURRENT_INTEREST_RATE      0.252854  0.233003            -0.061701  0.084748   \n",
      "ORIGINAL_UPB               0.088358  0.112108             0.139874  0.149201   \n",
      "ORIGINAL_LOAN_TERM         0.318857  0.319253            -0.078692  0.148802   \n",
      "LOAN_AGE                  -0.001123 -0.000745            -0.007218 -0.013670   \n",
      "REM_MONTHS_LEGAL_MATURITY  0.318919  0.319308            -0.078574  0.149074   \n",
      "REM_MONTHS_MATURITY        0.319013  0.319372            -0.078409  0.149791   \n",
      "LTV                        1.000000  0.974242            -0.048399  0.154963   \n",
      "CLTV                       0.974242  1.000000            -0.042998  0.157499   \n",
      "NUMBER_OF_BORROWERS       -0.048399 -0.042998             1.000000 -0.123752   \n",
      "DTI                        0.154963  0.157499            -0.123752  1.000000   \n",
      "B_CREDIT_SCORE_O          -0.173315 -0.162353             0.076020 -0.160154   \n",
      "NUMBER_OF_UNITS           -0.037871 -0.041830            -0.018386  0.032028   \n",
      "MSA                       -0.071786 -0.069232            -0.011814  0.016794   \n",
      "\n",
      "                           B_CREDIT_SCORE_O  NUMBER_OF_UNITS       MSA  \n",
      "ORIGINAL_INTEREST_RATE            -0.162449         0.036092 -0.017313  \n",
      "CURRENT_INTEREST_RATE             -0.162386         0.036094 -0.017343  \n",
      "ORIGINAL_UPB                       0.041093         0.061036  0.147889  \n",
      "ORIGINAL_LOAN_TERM                -0.096478         0.000882  0.030265  \n",
      "LOAN_AGE                          -0.004113         0.008671  0.016316  \n",
      "REM_MONTHS_LEGAL_MATURITY         -0.096421         0.000710  0.029955  \n",
      "REM_MONTHS_MATURITY               -0.099030         0.001187  0.030384  \n",
      "LTV                               -0.173315        -0.037871 -0.071786  \n",
      "CLTV                              -0.162353        -0.041830 -0.069232  \n",
      "NUMBER_OF_BORROWERS                0.076020        -0.018386 -0.011814  \n",
      "DTI                               -0.160154         0.032028  0.016794  \n",
      "B_CREDIT_SCORE_O                   1.000000        -0.005995  0.001131  \n",
      "NUMBER_OF_UNITS                   -0.005995         1.000000  0.013437  \n",
      "MSA                                0.001131         0.013437  1.000000  \n",
      "                        ORIGINAL_INTEREST_RATE  ORIGINAL_UPB  LOAN_AGE  \\\n",
      "ORIGINAL_INTEREST_RATE                1.000000     -0.115782  0.019756   \n",
      "ORIGINAL_UPB                         -0.115782      1.000000 -0.003212   \n",
      "LOAN_AGE                              0.019756     -0.003212  1.000000   \n",
      "REM_MONTHS_MATURITY                   0.373475      0.219349 -0.004286   \n",
      "CLTV                                  0.232992      0.112108 -0.000745   \n",
      "NUMBER_OF_BORROWERS                  -0.061727      0.139874 -0.007218   \n",
      "DTI                                   0.084704      0.149201 -0.013670   \n",
      "B_CREDIT_SCORE_O                     -0.162449      0.041093 -0.004113   \n",
      "NUMBER_OF_UNITS                       0.036092      0.061036  0.008671   \n",
      "MSA                                  -0.017313      0.147889  0.016316   \n",
      "\n",
      "                        REM_MONTHS_MATURITY      CLTV  NUMBER_OF_BORROWERS  \\\n",
      "ORIGINAL_INTEREST_RATE             0.373475  0.232992            -0.061727   \n",
      "ORIGINAL_UPB                       0.219349  0.112108             0.139874   \n",
      "LOAN_AGE                          -0.004286 -0.000745            -0.007218   \n",
      "REM_MONTHS_MATURITY                1.000000  0.319372            -0.078409   \n",
      "CLTV                               0.319372  1.000000            -0.042998   \n",
      "NUMBER_OF_BORROWERS               -0.078409 -0.042998             1.000000   \n",
      "DTI                                0.149791  0.157499            -0.123752   \n",
      "B_CREDIT_SCORE_O                  -0.099030 -0.162353             0.076020   \n",
      "NUMBER_OF_UNITS                    0.001187 -0.041830            -0.018386   \n",
      "MSA                                0.030384 -0.069232            -0.011814   \n",
      "\n",
      "                             DTI  B_CREDIT_SCORE_O  NUMBER_OF_UNITS       MSA  \n",
      "ORIGINAL_INTEREST_RATE  0.084704         -0.162449         0.036092 -0.017313  \n",
      "ORIGINAL_UPB            0.149201          0.041093         0.061036  0.147889  \n",
      "LOAN_AGE               -0.013670         -0.004113         0.008671  0.016316  \n",
      "REM_MONTHS_MATURITY     0.149791         -0.099030         0.001187  0.030384  \n",
      "CLTV                    0.157499         -0.162353        -0.041830 -0.069232  \n",
      "NUMBER_OF_BORROWERS    -0.123752          0.076020        -0.018386 -0.011814  \n",
      "DTI                     1.000000         -0.160154         0.032028  0.016794  \n",
      "B_CREDIT_SCORE_O       -0.160154          1.000000        -0.005995  0.001131  \n",
      "NUMBER_OF_UNITS         0.032028         -0.005995         1.000000  0.013437  \n",
      "MSA                     0.016794          0.001131         0.013437  1.000000  \n"
     ]
    }
   ],
   "source": [
    "#Test Corr\n",
    "#print(X.corr())\n",
    "print(Xdf.corr())\n",
    "X=X.drop(columns=[1,3,5,7],axis=1)\n",
    "Xdf=Xdf.drop(columns=Xdf.iloc[:,[1,3,5,7]].columns,axis=1)\n",
    "#print(X.corr())\n",
    "print(Xdf.corr())"
   ]
  },
  {
   "cell_type": "code",
   "execution_count": 9,
   "id": "eb4a7932",
   "metadata": {
    "scrolled": true
   },
   "outputs": [],
   "source": [
    "#preprocess object to dummies\n",
    "channel_dummies=pd.get_dummies(df[\"CHANNEL\"],drop_first=True,prefix=\"channel\")\n",
    "firsttime_dummies=pd.get_dummies(df[\"FIRST_TIME_HOME_BUYER_IND\"],drop_first=True,prefix=\"firsttime\")                \n",
    "loanpurpose_dummies=pd.get_dummies(df[\"LOAN_PURPOSE\"],drop_first=True,prefix=\"loanpurpose\") \n",
    "propertytype_dummies=pd.get_dummies(df[\"PROPERTY_TYPE\"],drop_first=True,prefix=\"propertytype\")\n",
    "occupancy_dummies=pd.get_dummies(df[\"OCCUPANCY_STATUS\"],drop_first=True,prefix=\"occupancy\")          \n",
    "propertystate_dummies=pd.get_dummies(df[\"PROPERTY_STATE\"],drop_first=True,prefix=\"propertystate\") "
   ]
  },
  {
   "cell_type": "code",
   "execution_count": 10,
   "id": "10eb109e",
   "metadata": {},
   "outputs": [],
   "source": [
    "#combine the X with dummies variables\n",
    "Xall= pd.concat([Xdf,channel_dummies,firsttime_dummies,loanpurpose_dummies,propertytype_dummies,occupancy_dummies,propertystate_dummies],axis=1)"
   ]
  },
  {
   "cell_type": "code",
   "execution_count": 11,
   "id": "676cddff",
   "metadata": {},
   "outputs": [],
   "source": [
    "#split the train set and test set\n",
    "X_train, X_test,y1_train,y1_test,y2_train,y2_test=train_test_split(X,y1,y2,test_size=0.2,random_state=21)\n",
    "X_train=X_train.values\n",
    "X_test=X_test.values\n",
    "channel_train,channel_test=train_test_split(channel_dummies,test_size=0.2,random_state=21)\n",
    "loanpurpose_train,loanpurpose_test=train_test_split(loanpurpose_dummies,test_size=0.2,random_state=21)\n",
    "firsttime_train,firsttime_test=train_test_split(firsttime_dummies,test_size=0.2,random_state=21)\n",
    "propertytype_train,propertytype_test=train_test_split(propertytype_dummies,test_size=0.2,random_state=21)\n",
    "occupancy_train,occupancy_test=train_test_split(occupancy_dummies,test_size=0.2,random_state=21)\n",
    "propertystate_train,propertystate_test=train_test_split(propertystate_dummies,test_size=0.2,random_state=21)"
   ]
  },
  {
   "cell_type": "markdown",
   "id": "e999d951",
   "metadata": {},
   "source": [
    "**Predicting model of NMONTHS**"
   ]
  },
  {
   "cell_type": "code",
   "execution_count": 12,
   "id": "d1e4638d",
   "metadata": {},
   "outputs": [
    {
     "name": "stdout",
     "output_type": "stream",
     "text": [
      "37.91916646379718 LinearRegression()\n",
      "37.91917908556337 Ridge()\n",
      "50.1854 LinearDiscriminantAnalysis()\n",
      "62.51686 GaussianNB()\n",
      "49.20718 DecisionTreeClassifier()\n",
      "38.12247041671439 Lasso()\n",
      "39.516300821875966 ElasticNet()\n"
     ]
    }
   ],
   "source": [
    "#select regression model roughly\n",
    "model=[LinearRegression(),Ridge(),lda(),gnb(),dt(),Lasso(),ElasticNet()]\n",
    "for i in model:\n",
    "    clf=i.fit(X_train,y1_train)\n",
    "    a=mean_absolute_error(y1_test, clf.predict(X_test))\n",
    "    print(a,i)"
   ]
  },
  {
   "cell_type": "code",
   "execution_count": 13,
   "id": "96638e81",
   "metadata": {},
   "outputs": [
    {
     "name": "stdout",
     "output_type": "stream",
     "text": [
      "Done!\n",
      "selected float parameter: ['ORIGINAL_INTEREST_RATE', 'ORIGINAL_UPB', 'REM_MONTHS_MATURITY', 'B_CREDIT_SCORE_O', 'NUMBER_OF_UNITS', 'NUMBER_OF_BORROWERS']\n",
      "MAE 37.91201958817663\n"
     ]
    }
   ],
   "source": [
    "##### Select parameter for NMONTHS ####\n",
    "#Add the float variables one by one to calculate the error\n",
    "error=[]\n",
    "parameter1=[]\n",
    "acu=np.mean(y1)\n",
    "X_sitrain=np.zeros(X_train.shape[0]).reshape(-1,1)\n",
    "X_sitest=np.zeros(X_test.shape[0]).reshape(-1,1)\n",
    "Xte=Xdf\n",
    "while (X_train.shape[1]>0):\n",
    "    for i in range(X_train.shape[1]):\n",
    "        X_strain=np.append(X_sitrain,X_train[:,i].reshape(-1,1),axis=1)\n",
    "        X_stest=np.append(X_sitest,X_test[:,i].reshape(-1,1),axis=1)\n",
    "        #print(X_sitrain)\n",
    "        #print(X_strain)\n",
    "        linear=LinearRegression().fit(X_strain,y1_train)\n",
    "        #ridge=Ridge().fit(X_sitrain,y1_train)\n",
    "        a=mean_absolute_error(y1_test, linear.predict(X_stest))\n",
    "        #a=r2_score(y1_test, linear.predict(X_sitest))\n",
    "        #print(a,list(Xte.iloc[:,i:i+1]))\n",
    "        error.append([a,list(Xte.iloc[:,i:i+1].columns),i,X_strain,X_stest])\n",
    "    error.sort(reverse=False)\n",
    "    if error[0][0]< acu:\n",
    "        parameter1.append(error[0][1][0])\n",
    "        acu=error[0][0]\n",
    "        Xte=Xte.drop(error[0][1][0],axis=1)\n",
    "        X_train=np.delete(X_train,error[0][2],axis=1)\n",
    "        X_test=np.delete(X_test,error[0][2],axis=1)\n",
    "        X_sitrain=error[0][3]\n",
    "        X_sitest=error[0][4]\n",
    "        #print(parameter1)\n",
    "        error=[]\n",
    "    else:\n",
    "        break\n",
    "float_parameter1=parameter1[:]#save float parameter\n",
    "print(\"Done!\")\n",
    "print(\"selected float parameter:\",parameter1)\n",
    "print(\"MAE\",acu)"
   ]
  },
  {
   "cell_type": "code",
   "execution_count": 14,
   "id": "1630e079",
   "metadata": {},
   "outputs": [
    {
     "name": "stdout",
     "output_type": "stream",
     "text": [
      "Done!\n",
      "selected float&dummy parameter: ['ORIGINAL_INTEREST_RATE', 'ORIGINAL_UPB', 'REM_MONTHS_MATURITY', 'B_CREDIT_SCORE_O', 'NUMBER_OF_UNITS', 'NUMBER_OF_BORROWERS', 'propertystate_AL', 'propertystate_AR', 'propertystate_AZ', 'propertystate_CA', 'propertystate_CO', 'propertystate_CT', 'propertystate_DC', 'propertystate_DE', 'propertystate_FL', 'propertystate_GA', 'propertystate_GU', 'propertystate_HI', 'propertystate_IA', 'propertystate_ID', 'propertystate_IL', 'propertystate_IN', 'propertystate_KS', 'propertystate_KY', 'propertystate_LA', 'propertystate_MA', 'propertystate_MD', 'propertystate_ME', 'propertystate_MI', 'propertystate_MN', 'propertystate_MO', 'propertystate_MS', 'propertystate_MT', 'propertystate_NC', 'propertystate_ND', 'propertystate_NE', 'propertystate_NH', 'propertystate_NJ', 'propertystate_NM', 'propertystate_NV', 'propertystate_NY', 'propertystate_OH', 'propertystate_OK', 'propertystate_OR', 'propertystate_PA', 'propertystate_PR', 'propertystate_RI', 'propertystate_SC', 'propertystate_SD', 'propertystate_TN', 'propertystate_TX', 'propertystate_UT', 'propertystate_VA', 'propertystate_VI', 'propertystate_VT', 'propertystate_WA', 'propertystate_WI', 'propertystate_WV', 'propertystate_WY', 'occupancy_P', 'occupancy_S', 'propertytype_CP', 'propertytype_MH', 'propertytype_PU', 'propertytype_SF', 'loanpurpose_P', 'loanpurpose_R', 'loanpurpose_U', 'firsttime_Y', 'channel_C', 'channel_R']\n",
      "MAE 37.363087270488485\n"
     ]
    }
   ],
   "source": [
    "# Add the dummy variables one by one to calculate the error,based on parameter above\n",
    "dummy_train=[channel_train,loanpurpose_train,firsttime_train,propertytype_train,occupancy_train,propertystate_train]\n",
    "dummy_test=[channel_test,loanpurpose_test,firsttime_test,propertytype_test,occupancy_test,propertystate_test]\n",
    "dummy_parameter1=[]\n",
    "error=[]\n",
    "while (len(dummy_train)>0):\n",
    "    for i in range(len(dummy_train)):\n",
    "        X_strain=np.append(X_sitrain,dummy_train[i],axis=1)\n",
    "        X_stest=np.append(X_sitest,dummy_test[i],axis=1)\n",
    "        #print(X_strain)\n",
    "        linear=LinearRegression().fit(X_strain,y1_train)\n",
    "        #ridge=Ridge().fit(X_sitrain,y1_train)\n",
    "        a=mean_absolute_error(y1_test, linear.predict(X_stest))\n",
    "        #a=r2_score(y1_test, linear.predict(X_sitest))\n",
    "        #print(a,list(dummy_train[i].columns))\n",
    "        error.append([a,list(dummy_train[i].columns),i,X_strain,X_stest])\n",
    "    error.sort(reverse=False)\n",
    "    if error[0][0]< acu:\n",
    "        p=error[0][1]\n",
    "        for t in range(len(p)):\n",
    "            parameter1.append(p[t])\n",
    "            dummy_parameter1.append(p[t])#save dummy parameters\n",
    "        acu=error[0][0]\n",
    "        del dummy_train[error[0][2]]\n",
    "        del dummy_test[error[0][2]]\n",
    "        X_sitrain=error[0][3]\n",
    "        X_sitest=error[0][4]\n",
    "        #print(dummy_parameter1)\n",
    "        error=[]\n",
    "    else: \n",
    "        break\n",
    "print(\"Done!\")\n",
    "print(\"selected float&dummy parameter:\",parameter1)\n",
    "print(\"MAE\",acu)"
   ]
  },
  {
   "cell_type": "code",
   "execution_count": 15,
   "id": "8da64ea1",
   "metadata": {},
   "outputs": [],
   "source": [
    "#build dataset of day_gap\n",
    "day_gap=pd.DataFrame()\n",
    "dayvariable=[]\n",
    "n=0\n",
    "for i in range(4):\n",
    "    j=4-i\n",
    "    for t in range(1,j):\n",
    "        n+=1\n",
    "        Xday=abs(D.iloc[:,i]-D.iloc[:,i+t])\n",
    "        #print(Xday)\n",
    "        Xday=Xday.astype('timedelta64[M]').astype(float)\n",
    "        day_gap=pd.concat([day_gap,Xday],axis=1)\n",
    "        dayvariable.append([list(D.iloc[:,i:i+1].columns),list(D.iloc[:,i+t:i+t+1].columns),n-1])\n",
    "day_gap.columns=['R-O','R-F','R-M','O-F','O-M','F-M']"
   ]
  },
  {
   "cell_type": "code",
   "execution_count": 16,
   "id": "9443c7cb",
   "metadata": {},
   "outputs": [
    {
     "name": "stdout",
     "output_type": "stream",
     "text": [
      "          R-O       R-F       R-M       O-F       O-M       F-M\n",
      "R-O  1.000000  0.618616 -0.002829  0.128937  0.016119  0.015496\n",
      "R-F  0.618616  1.000000 -0.048651  0.051186 -0.036030 -0.036353\n",
      "R-M -0.002829 -0.048651  1.000000 -0.008031  0.999804  0.999809\n",
      "O-F  0.128937  0.051186 -0.008031  1.000000 -0.006027 -0.009131\n",
      "O-M  0.016119 -0.036030  0.999804 -0.006027  1.000000  0.999985\n",
      "F-M  0.015496 -0.036353  0.999809 -0.009131  0.999985  1.000000\n",
      "          R-M       O-F\n",
      "R-M  1.000000 -0.008031\n",
      "O-F -0.008031  1.000000\n"
     ]
    }
   ],
   "source": [
    "print(day_gap.corr())\n",
    "day_gap=day_gap.loc[:,['R-M','O-F']]\n",
    "print(day_gap.corr())"
   ]
  },
  {
   "cell_type": "code",
   "execution_count": 17,
   "id": "83618c43",
   "metadata": {},
   "outputs": [],
   "source": [
    "from sklearn.experimental import enable_iterative_imputer\n",
    "from sklearn.impute import IterativeImputer\n",
    "dim=day_gap.values\n",
    "imp = IterativeImputer(max_iter=1000, random_state=0)\n",
    "imp=imp.fit(dim)\n",
    "dim=imp.transform(dim)\n",
    "day_gap=pd.DataFrame(dim)\n",
    "day_gap.columns=['R-M','O-F']"
   ]
  },
  {
   "cell_type": "code",
   "execution_count": 18,
   "id": "572cad95",
   "metadata": {},
   "outputs": [
    {
     "name": "stdout",
     "output_type": "stream",
     "text": [
      "corr: \n",
      "           0         1         2         3         4         5\n",
      "0  1.000000 -0.115782  0.373475 -0.163343  0.036092 -0.061740\n",
      "1 -0.115782  1.000000  0.219349  0.041549  0.061036  0.139893\n",
      "2  0.373475  0.219349  1.000000 -0.099367  0.001187 -0.078425\n",
      "3 -0.163343  0.041549 -0.099367  1.000000 -0.006006  0.076406\n",
      "4  0.036092  0.061036  0.001187 -0.006006  1.000000 -0.018386\n",
      "5 -0.061740  0.139893 -0.078425  0.076406 -0.018386  1.000000\n"
     ]
    }
   ],
   "source": [
    "x=Xdf.loc[:,float_parameter1]\n",
    "#print(x)\n",
    "#print(x.corr())\n",
    "#combine the selected X with dummies variables\n",
    "Xim_sel=x.values\n",
    "imp = IterativeImputer(max_iter=1000, random_state=0)\n",
    "imp=imp.fit(Xim_sel)\n",
    "Xim_sel=imp.transform(Xim_sel)\n",
    "X_sel=pd.DataFrame(Xim_sel)\n",
    "print(\"corr:\",\"\\n\",X_sel.corr())\n",
    "X_sel = pd.concat([X_sel,Xall.loc[:,dummy_parameter1],day_gap],axis=1)\n",
    "#print(X_sel)\n"
   ]
  },
  {
   "cell_type": "code",
   "execution_count": 19,
   "id": "b985bcf8",
   "metadata": {},
   "outputs": [],
   "source": [
    "X_sel_train,X_sel_test=train_test_split(X_sel,test_size=0.2,random_state=21)\n",
    "X_sel_train=X_sel_train.values\n",
    "X_sel_test=X_sel_test.values"
   ]
  },
  {
   "cell_type": "markdown",
   "id": "dbcc1eef",
   "metadata": {},
   "source": [
    "**Evaluation of testing set**"
   ]
  },
  {
   "cell_type": "code",
   "execution_count": 20,
   "id": "29a45574",
   "metadata": {},
   "outputs": [
    {
     "name": "stdout",
     "output_type": "stream",
     "text": [
      "mean absolute error: 37.35503466978695\n",
      "mean squared error: 2325.6128026579554\n",
      "r2 scorce: 0.1543288574411008\n"
     ]
    }
   ],
   "source": [
    "linear=LinearRegression().fit(X_sel_train,y1_train)\n",
    "Error_a=mean_absolute_error(y1_test, linear.predict(X_sel_test))\n",
    "Error_s=mean_squared_error(y1_test, linear.predict(X_sel_test))\n",
    "Error_r=r2_score(y1_test, linear.predict(X_sel_test))\n",
    "print(\"mean absolute error:\",Error_a)\n",
    "print(\"mean squared error:\",Error_s)\n",
    "print(\"r2 scorce:\",Error_r)"
   ]
  },
  {
   "cell_type": "markdown",
   "id": "daa2b422",
   "metadata": {},
   "source": [
    "**Forecast Training set**"
   ]
  },
  {
   "cell_type": "code",
   "execution_count": 21,
   "id": "b75d0064",
   "metadata": {},
   "outputs": [],
   "source": [
    "dtest=read_data(\"test_predsTLJC.csv\")\n",
    "G=dtest.loc[:,float_parameter1]\n",
    "Gdf=G\n",
    "Gim=G.values\n",
    "imp = IterativeImputer(max_iter=1000, random_state=5)\n",
    "imp=imp.fit(Gim)\n",
    "Gim=imp.transform(Gim)\n",
    "G=pd.DataFrame(Gim)\n",
    "#date data\n",
    "daycols=dtest.dtypes==\"datetime64[ns]\"\n",
    "GD=dtest.loc[:,daycols]\n",
    "Xday1=abs(GD.iloc[:,0]-GD.iloc[:,3])\n",
    "Xday1=Xday1.astype('timedelta64[M]').astype(float)\n",
    "Xday2=abs(GD.iloc[:,1]-GD.iloc[:,2])\n",
    "Xday2=Xday2.astype('timedelta64[M]').astype(float)\n",
    "G_day_gap=pd.concat([Xday1,Xday2],axis=1)\n",
    "Gdim=G_day_gap.values\n",
    "imp = IterativeImputer(max_iter=1000, random_state=0)\n",
    "imp=imp.fit(Gdim)\n",
    "Gdim=imp.transform(Gdim)\n",
    "G_day_gap=pd.DataFrame(Gdim)\n",
    "G_day_gap.columns=['R-M','O-F']\n",
    "#preprocess object to dummies\n",
    "G_channel_dummies=pd.get_dummies(dtest[\"CHANNEL\"],drop_first=True,prefix=\"channel\")\n",
    "G_firsttime_dummies=pd.get_dummies(dtest[\"FIRST_TIME_HOME_BUYER_IND\"],drop_first=True,prefix=\"firsttime\")                \n",
    "G_loanpurpose_dummies=pd.get_dummies(dtest[\"LOAN_PURPOSE\"],drop_first=True,prefix=\"loanpurpose\") \n",
    "G_propertytype_dummies=pd.get_dummies(dtest[\"PROPERTY_TYPE\"],drop_first=True,prefix=\"propertytype\")\n",
    "G_occupancy_dummies=pd.get_dummies(dtest[\"OCCUPANCY_STATUS\"],drop_first=True,prefix=\"occupancy\")          \n",
    "G_propertystate_dummies=pd.get_dummies(dtest[\"PROPERTY_STATE\"],drop_first=True,prefix=\"propertystate\") \n",
    "Gall= pd.concat([Gdf,G_channel_dummies,G_firsttime_dummies,G_loanpurpose_dummies,G_propertytype_dummies,G_occupancy_dummies,G_propertystate_dummies],axis=1)\n",
    "\n",
    "G_test = pd.concat([G,Gall.loc[:,dummy_parameter1],G_day_gap],axis=1).values\n"
   ]
  },
  {
   "cell_type": "code",
   "execution_count": 22,
   "id": "d51403d0",
   "metadata": {},
   "outputs": [
    {
     "name": "stdout",
     "output_type": "stream",
     "text": [
      "            LOAN_ID    NMONTHS\n",
      "0      ICIHCHIADIIC  32.668253\n",
      "1      HBBAFDJBJJEC  77.404789\n",
      "2      CGEBEHJDCCBG  51.100108\n",
      "3      HCDGFDIDAEGE  97.703619\n",
      "4      AGAHJDCEEFEI  48.699685\n",
      "...             ...        ...\n",
      "99995  CDEHJHAGEGJC  76.794369\n",
      "99996  IAAHCBBFDCCJ  84.431207\n",
      "99997  JECEDABADAHF  57.180248\n",
      "99998  FCDJIGJCGAJF  39.668084\n",
      "99999  CDEHHGFEICAF  81.185956\n",
      "\n",
      "[100000 rows x 2 columns]\n"
     ]
    }
   ],
   "source": [
    "Gy1=linear.predict(G_test)\n",
    "Gy1=pd.DataFrame(Gy1.reshape(-1,1))\n",
    "Gy1.columns=['NMONTHS']\n",
    "ID=dtest.iloc[:,0]\n",
    "test=pd.concat([ID,Gy1],axis=1)\n",
    "print(test)"
   ]
  },
  {
   "cell_type": "markdown",
   "id": "3cf1a142",
   "metadata": {},
   "source": [
    "**Predicting model of FORECLOSURE**"
   ]
  },
  {
   "cell_type": "code",
   "execution_count": 23,
   "id": "c9f10217",
   "metadata": {},
   "outputs": [],
   "source": [
    "# Predicting model for foreclosure\n",
    "# split the train set and test set\n",
    "# standard data\n",
    "ss=StandardScaler()\n",
    "X_ss=ss.fit_transform(X)\n",
    "X_train, X_test,y1_train,y1_test,y2_train,y2_test=train_test_split(X_ss,y1,y2,test_size=0.2,random_state=21)\n",
    "X_train=X_train\n",
    "X_test=X_test\n",
    "\n",
    "\n",
    "channel_train,channel_test=train_test_split(channel_dummies,test_size=0.2,random_state=21)\n",
    "loanpurpose_train,loanpurpose_test=train_test_split(loanpurpose_dummies,test_size=0.2,random_state=21)\n",
    "firsttime_train,firsttime_test=train_test_split(firsttime_dummies,test_size=0.2,random_state=21)\n",
    "propertytype_train,propertytype_test=train_test_split(propertytype_dummies,test_size=0.2,random_state=21)\n",
    "occupancy_train,occupancy_test=train_test_split(occupancy_dummies,test_size=0.2,random_state=21)\n",
    "propertystate_train,propertystate_test=train_test_split(propertystate_dummies,test_size=0.2,random_state=21)\n",
    "\n"
   ]
  },
  {
   "cell_type": "code",
   "execution_count": 24,
   "id": "3e43d718",
   "metadata": {},
   "outputs": [
    {
     "name": "stdout",
     "output_type": "stream",
     "text": [
      "{'C': 0.5, 'solver': 'sag'}\n"
     ]
    }
   ],
   "source": [
    "#gridsearch for best parameters\n",
    "from sklearn.model_selection import GridSearchCV\n",
    "parameters = {'solver':('sag', 'lbfgs','newton-cg'), 'C':[0.5, 0.1]}\n",
    "logistic = LogisticRegression()\n",
    "clf = GridSearchCV(logistic, parameters)\n",
    "clf.fit(X_train, y2_train)\n",
    "sorted(clf.cv_results_.keys())\n",
    "print(clf.best_params_)"
   ]
  },
  {
   "cell_type": "code",
   "execution_count": 25,
   "id": "79be6282",
   "metadata": {},
   "outputs": [
    {
     "name": "stdout",
     "output_type": "stream",
     "text": [
      "Done!\n",
      "deleted float parameter: []\n",
      "precision score 0.06748785565579458\n"
     ]
    },
    {
     "name": "stderr",
     "output_type": "stream",
     "text": [
      "/Users/rongnozomi/opt/anaconda3/lib/python3.9/site-packages/sklearn/linear_model/_sag.py:352: ConvergenceWarning: The max_iter was reached which means the coef_ did not converge\n",
      "  warnings.warn(\n",
      "/Users/rongnozomi/opt/anaconda3/lib/python3.9/site-packages/sklearn/linear_model/_sag.py:352: ConvergenceWarning: The max_iter was reached which means the coef_ did not converge\n",
      "  warnings.warn(\n",
      "/Users/rongnozomi/opt/anaconda3/lib/python3.9/site-packages/sklearn/linear_model/_sag.py:352: ConvergenceWarning: The max_iter was reached which means the coef_ did not converge\n",
      "  warnings.warn(\n",
      "/Users/rongnozomi/opt/anaconda3/lib/python3.9/site-packages/sklearn/linear_model/_sag.py:352: ConvergenceWarning: The max_iter was reached which means the coef_ did not converge\n",
      "  warnings.warn(\n",
      "/Users/rongnozomi/opt/anaconda3/lib/python3.9/site-packages/sklearn/linear_model/_sag.py:352: ConvergenceWarning: The max_iter was reached which means the coef_ did not converge\n",
      "  warnings.warn(\n",
      "/Users/rongnozomi/opt/anaconda3/lib/python3.9/site-packages/sklearn/linear_model/_sag.py:352: ConvergenceWarning: The max_iter was reached which means the coef_ did not converge\n",
      "  warnings.warn(\n",
      "/Users/rongnozomi/opt/anaconda3/lib/python3.9/site-packages/sklearn/linear_model/_sag.py:352: ConvergenceWarning: The max_iter was reached which means the coef_ did not converge\n",
      "  warnings.warn(\n",
      "/Users/rongnozomi/opt/anaconda3/lib/python3.9/site-packages/sklearn/linear_model/_sag.py:352: ConvergenceWarning: The max_iter was reached which means the coef_ did not converge\n",
      "  warnings.warn(\n",
      "/Users/rongnozomi/opt/anaconda3/lib/python3.9/site-packages/sklearn/linear_model/_sag.py:352: ConvergenceWarning: The max_iter was reached which means the coef_ did not converge\n",
      "  warnings.warn(\n",
      "/Users/rongnozomi/opt/anaconda3/lib/python3.9/site-packages/sklearn/linear_model/_sag.py:352: ConvergenceWarning: The max_iter was reached which means the coef_ did not converge\n",
      "  warnings.warn(\n",
      "/Users/rongnozomi/opt/anaconda3/lib/python3.9/site-packages/sklearn/linear_model/_sag.py:352: ConvergenceWarning: The max_iter was reached which means the coef_ did not converge\n",
      "  warnings.warn(\n",
      "/Users/rongnozomi/opt/anaconda3/lib/python3.9/site-packages/sklearn/linear_model/_sag.py:352: ConvergenceWarning: The max_iter was reached which means the coef_ did not converge\n",
      "  warnings.warn(\n",
      "/Users/rongnozomi/opt/anaconda3/lib/python3.9/site-packages/sklearn/linear_model/_sag.py:352: ConvergenceWarning: The max_iter was reached which means the coef_ did not converge\n",
      "  warnings.warn(\n",
      "/Users/rongnozomi/opt/anaconda3/lib/python3.9/site-packages/sklearn/linear_model/_sag.py:352: ConvergenceWarning: The max_iter was reached which means the coef_ did not converge\n",
      "  warnings.warn(\n",
      "/Users/rongnozomi/opt/anaconda3/lib/python3.9/site-packages/sklearn/linear_model/_sag.py:352: ConvergenceWarning: The max_iter was reached which means the coef_ did not converge\n",
      "  warnings.warn(\n"
     ]
    },
    {
     "name": "stdout",
     "output_type": "stream",
     "text": [
      "Done!\n",
      "selected dummy parameter: ['propertystate_AL', 'propertystate_AR', 'propertystate_AZ', 'propertystate_CA', 'propertystate_CO', 'propertystate_CT', 'propertystate_DC', 'propertystate_DE', 'propertystate_FL', 'propertystate_GA', 'propertystate_GU', 'propertystate_HI', 'propertystate_IA', 'propertystate_ID', 'propertystate_IL', 'propertystate_IN', 'propertystate_KS', 'propertystate_KY', 'propertystate_LA', 'propertystate_MA', 'propertystate_MD', 'propertystate_ME', 'propertystate_MI', 'propertystate_MN', 'propertystate_MO', 'propertystate_MS', 'propertystate_MT', 'propertystate_NC', 'propertystate_ND', 'propertystate_NE', 'propertystate_NH', 'propertystate_NJ', 'propertystate_NM', 'propertystate_NV', 'propertystate_NY', 'propertystate_OH', 'propertystate_OK', 'propertystate_OR', 'propertystate_PA', 'propertystate_PR', 'propertystate_RI', 'propertystate_SC', 'propertystate_SD', 'propertystate_TN', 'propertystate_TX', 'propertystate_UT', 'propertystate_VA', 'propertystate_VI', 'propertystate_VT', 'propertystate_WA', 'propertystate_WI', 'propertystate_WV', 'propertystate_WY', 'loanpurpose_P', 'loanpurpose_R', 'loanpurpose_U', 'occupancy_P', 'occupancy_S', 'propertytype_CP', 'propertytype_MH', 'propertytype_PU', 'propertytype_SF', 'channel_C', 'channel_R']\n",
      "precision score 0.07862969004893965\n"
     ]
    },
    {
     "name": "stderr",
     "output_type": "stream",
     "text": [
      "/Users/rongnozomi/opt/anaconda3/lib/python3.9/site-packages/sklearn/linear_model/_sag.py:352: ConvergenceWarning: The max_iter was reached which means the coef_ did not converge\n",
      "  warnings.warn(\n"
     ]
    }
   ],
   "source": [
    "# auc of all float variables\n",
    "logistic=LogisticRegression(solver='sag',multi_class='multinomial',class_weight='balanced',random_state=2,C=.5)\n",
    "logistic.fit(X_train,y2_train)\n",
    "y2pred_prob=logistic.predict_proba(X_test)\n",
    "y2_pred=logistic.predict(X_test)\n",
    "pd.crosstab(y2_test,y2_pred)\n",
    "#print(roc_auc_score(y2_test,y2_pred))\n",
    "\n",
    "#delete variables\n",
    "error=[]\n",
    "Xte=Xdf\n",
    "X_sitrain=X_train\n",
    "X_sitest=X_test\n",
    "acu=precision_score(y2_test,y2_pred)\n",
    "parameter2=[]\n",
    "while (X_sitrain.shape[1]>0):\n",
    "    for i in range(X_sitrain.shape[1]):\n",
    "        X_strain=np.delete(X_sitrain,i,axis=1)\n",
    "        X_stest=np.delete(X_sitest,i,axis=1)\n",
    "        logistic=LogisticRegression(solver='sag',multi_class='multinomial',class_weight='balanced',random_state=2,C=.5)\n",
    "        logistic.fit(X_sitrain,y2_train)\n",
    "        y2pred_prob=logistic.predict_proba(X_sitest)\n",
    "        y2_pred=logistic.predict(X_sitest)\n",
    "        a=precision_score(y2_test,y2_pred)\n",
    "        #print(a,list(Xte.iloc[:,i:i+1]))\n",
    "        error.append([a,list(Xte.iloc[:,i:i+1].columns),i,X_strain,X_stest])\n",
    "    error.sort(reverse=True)\n",
    "    if error[0][0]> acu:\n",
    "        parameter2.append(error[0][1][0])\n",
    "        acu=error[0][0]\n",
    "        Xte=Xte.drop(error[0][1][0],axis=1)\n",
    "        X_sitrain=error[0][3]\n",
    "        X_sitest=error[0][4]\n",
    "        #print(parameter2)\n",
    "        error=[]\n",
    "    else:\n",
    "        \n",
    "        break\n",
    "print(\"Done!\")\n",
    "print(\"deleted float parameter:\",parameter2)\n",
    "print(\"precision score\",acu)\n",
    "\n",
    "\n",
    "#select dummies variables\n",
    "# Add the dummy variables one by one to calculate the error,based on parameter above\n",
    "dummy_train=[channel_train,loanpurpose_train,firsttime_train,propertytype_train,occupancy_train,propertystate_train]\n",
    "dummy_test=[channel_test,loanpurpose_test,firsttime_test,propertytype_test,occupancy_test,propertystate_test]\n",
    "dummy_parameter2=[]\n",
    "error=[]\n",
    "X_sitrain=X_train\n",
    "X_sitest=X_test\n",
    "while (len(dummy_train)>0):\n",
    "    for i in range(len(dummy_train)):\n",
    "        X_strain=np.append(X_sitrain,dummy_train[i],axis=1)\n",
    "        X_stest=np.append(X_sitest,dummy_test[i],axis=1)\n",
    "        #print(X_strain)\n",
    "        logistic=LogisticRegression(solver='sag',multi_class='multinomial',class_weight='balanced',random_state=2,C=.5)\n",
    "        logistic.fit(X_strain,y2_train)\n",
    "        y2pred_prob=logistic.predict_proba(X_stest)\n",
    "        y2_pred=logistic.predict(X_stest)\n",
    "        a=precision_score(y2_test,y2_pred)\n",
    "        #print(a,list(dummy_train[i].columns))\n",
    "        error.append([a,list(dummy_train[i].columns),i,X_strain,X_stest])\n",
    "        #print(error)\n",
    "    error.sort(reverse=True)\n",
    "    if error[0][0]> acu:\n",
    "        p=error[0][1]\n",
    "        for t in range(len(p)):\n",
    "            parameter2.append(p[t])\n",
    "            dummy_parameter2.append(p[t])#save dummy parameters\n",
    "        acu=error[0][0]\n",
    "        del dummy_train[error[0][2]]\n",
    "        del dummy_test[error[0][2]]\n",
    "        X_sitrain=error[0][3]\n",
    "        X_sitest=error[0][4]\n",
    "        #print(dummyparameter2)\n",
    "        error=[]\n",
    "    else: \n",
    "        break\n",
    "print(\"Done!\")\n",
    "print(\"selected dummy parameter:\",parameter2)\n",
    "print(\"precision score\",acu)\n"
   ]
  },
  {
   "cell_type": "markdown",
   "id": "c8b1d456",
   "metadata": {},
   "source": [
    "**Evaluation of training set**"
   ]
  },
  {
   "cell_type": "code",
   "execution_count": 28,
   "id": "3da845e3",
   "metadata": {},
   "outputs": [
    {
     "name": "stdout",
     "output_type": "stream",
     "text": [
      "0.07859365688935974\n"
     ]
    },
    {
     "name": "stderr",
     "output_type": "stream",
     "text": [
      "/Users/rongnozomi/opt/anaconda3/lib/python3.9/site-packages/sklearn/linear_model/_sag.py:352: ConvergenceWarning: The max_iter was reached which means the coef_ did not converge\n",
      "  warnings.warn(\n"
     ]
    },
    {
     "data": {
      "text/html": [
       "<div>\n",
       "<style scoped>\n",
       "    .dataframe tbody tr th:only-of-type {\n",
       "        vertical-align: middle;\n",
       "    }\n",
       "\n",
       "    .dataframe tbody tr th {\n",
       "        vertical-align: top;\n",
       "    }\n",
       "\n",
       "    .dataframe thead th {\n",
       "        text-align: right;\n",
       "    }\n",
       "</style>\n",
       "<table border=\"1\" class=\"dataframe\">\n",
       "  <thead>\n",
       "    <tr style=\"text-align: right;\">\n",
       "      <th>col_0</th>\n",
       "      <th>0.0</th>\n",
       "      <th>1.0</th>\n",
       "    </tr>\n",
       "    <tr>\n",
       "      <th>FORECLOSURE</th>\n",
       "      <th></th>\n",
       "      <th></th>\n",
       "    </tr>\n",
       "  </thead>\n",
       "  <tbody>\n",
       "    <tr>\n",
       "      <th>0.0</th>\n",
       "      <td>69108</td>\n",
       "      <td>27832</td>\n",
       "    </tr>\n",
       "    <tr>\n",
       "      <th>1.0</th>\n",
       "      <td>686</td>\n",
       "      <td>2374</td>\n",
       "    </tr>\n",
       "  </tbody>\n",
       "</table>\n",
       "</div>"
      ],
      "text/plain": [
       "col_0          0.0    1.0\n",
       "FORECLOSURE              \n",
       "0.0          69108  27832\n",
       "1.0            686   2374"
      ]
     },
     "execution_count": 28,
     "metadata": {},
     "output_type": "execute_result"
    }
   ],
   "source": [
    "#final selected dataset\n",
    "#standard data\n",
    "X_ss=pd.DataFrame(X_ss)\n",
    "X_sel = pd.concat([X_ss,Xall.loc[:,parameter2]],axis=1)\n",
    "#split the dataset as train set and test set=100,000\n",
    "X_sel_train,X_sel_test=train_test_split(X_sel,test_size=0.4,random_state=20)\n",
    "X_train, X_test,y1_train,y1_test,y2_train,y2_test=train_test_split(X,y1,y2,test_size=0.4,random_state=20)\n",
    "X_sel_train=X_sel_train.values\n",
    "X_sel_test=X_sel_test.values\n",
    "#logistical regression\n",
    "logistic=LogisticRegression(solver='sag',multi_class='multinomial',class_weight='balanced',random_state=2,C=.5)\n",
    "logistic.fit(X_sel_train,y2_train)\n",
    "y2pred_prob=logistic.predict_proba(X_sel_test)\n",
    "y2_pred=logistic.predict(X_sel_test)\n",
    "print(precision_score(y2_test,y2_pred))\n",
    "pd.crosstab(y2_test,y2_pred)"
   ]
  },
  {
   "cell_type": "code",
   "execution_count": 29,
   "id": "de25a4ea",
   "metadata": {},
   "outputs": [
    {
     "name": "stdout",
     "output_type": "stream",
     "text": [
      "roc_auc_score 0.5295648140282178\n",
      "precision_score 0.206\n",
      "recall_score 0.0673202614379085\n"
     ]
    },
    {
     "data": {
      "text/html": [
       "<div>\n",
       "<style scoped>\n",
       "    .dataframe tbody tr th:only-of-type {\n",
       "        vertical-align: middle;\n",
       "    }\n",
       "\n",
       "    .dataframe tbody tr th {\n",
       "        vertical-align: top;\n",
       "    }\n",
       "\n",
       "    .dataframe thead th {\n",
       "        text-align: right;\n",
       "    }\n",
       "</style>\n",
       "<table border=\"1\" class=\"dataframe\">\n",
       "  <thead>\n",
       "    <tr style=\"text-align: right;\">\n",
       "      <th>col_0</th>\n",
       "      <th>0.0</th>\n",
       "      <th>1.0</th>\n",
       "    </tr>\n",
       "    <tr>\n",
       "      <th>FORECLOSURE</th>\n",
       "      <th></th>\n",
       "      <th></th>\n",
       "    </tr>\n",
       "  </thead>\n",
       "  <tbody>\n",
       "    <tr>\n",
       "      <th>0.0</th>\n",
       "      <td>96146</td>\n",
       "      <td>794</td>\n",
       "    </tr>\n",
       "    <tr>\n",
       "      <th>1.0</th>\n",
       "      <td>2854</td>\n",
       "      <td>206</td>\n",
       "    </tr>\n",
       "  </tbody>\n",
       "</table>\n",
       "</div>"
      ],
      "text/plain": [
       "col_0          0.0  1.0\n",
       "FORECLOSURE            \n",
       "0.0          96146  794\n",
       "1.0           2854  206"
      ]
     },
     "execution_count": 29,
     "metadata": {},
     "output_type": "execute_result"
    }
   ],
   "source": [
    "#select 1000 foreclosure\n",
    "sort=np.sort(y2pred_prob[:,1])\n",
    "l=len(X_sel_test)\n",
    "n=0\n",
    "threshold=sort[-1000]\n",
    "gy2=np.zeros(l)\n",
    "for i in range(l):\n",
    "    if y2pred_prob[:,1][i]<threshold:\n",
    "        gy2[i]=0\n",
    "    else:\n",
    "        gy2[i]=1 \n",
    "        n+=1\n",
    "print(\"roc_auc_score\",roc_auc_score(y2_test,gy2))\n",
    "print(\"precision_score\",precision_score(y2_test,gy2))\n",
    "print(\"recall_score\",recall_score(y2_test,gy2))\n",
    "pd.crosstab(y2_test,gy2)"
   ]
  },
  {
   "cell_type": "markdown",
   "id": "7e508fc1",
   "metadata": {},
   "source": [
    "**Forecast the testing set**"
   ]
  },
  {
   "cell_type": "code",
   "execution_count": 30,
   "id": "13ff975c",
   "metadata": {},
   "outputs": [
    {
     "name": "stdout",
     "output_type": "stream",
     "text": [
      "[[ 1.13387179e+00 -6.46027549e-04 -3.46509120e-01 ...  1.00000000e+00\n",
      "   0.00000000e+00  1.00000000e+00]\n",
      " [-8.48739768e-01  1.67145338e+00 -3.46509120e-01 ...  1.00000000e+00\n",
      "   1.00000000e+00  0.00000000e+00]\n",
      " [ 1.43888895e+00 -9.32244267e-01 -3.46509120e-01 ...  0.00000000e+00\n",
      "   0.00000000e+00  0.00000000e+00]\n",
      " ...\n",
      " [-8.61968619e-02 -1.13528491e+00 -9.66458436e-01 ...  1.00000000e+00\n",
      "   0.00000000e+00  1.00000000e+00]\n",
      " [ 5.23837463e-01  2.38225316e-01  2.73440196e-01 ...  1.00000000e+00\n",
      "   0.00000000e+00  0.00000000e+00]\n",
      " [-1.00124835e+00 -8.96413566e-01 -3.46509120e-01 ...  1.00000000e+00\n",
      "   0.00000000e+00  1.00000000e+00]]\n"
     ]
    }
   ],
   "source": [
    "g=dtest.loc[:,Xdf.columns]\n",
    "gim=g.values\n",
    "imp = IterativeImputer(max_iter=1000, random_state=5)\n",
    "imp=imp.fit(gim)\n",
    "gim=imp.transform(gim)\n",
    "ss=StandardScaler()\n",
    "g_ss=ss.fit_transform(gim)\n",
    "g=pd.DataFrame(g_ss)\n",
    "g_test = pd.concat([g,Gall.loc[:,dummy_parameter2]],axis=1).values\n",
    "print(g_test)"
   ]
  },
  {
   "cell_type": "code",
   "execution_count": 31,
   "id": "151becfd",
   "metadata": {},
   "outputs": [
    {
     "name": "stdout",
     "output_type": "stream",
     "text": [
      "[[0.93679632 0.06320368]\n",
      " [0.54383767 0.45616233]\n",
      " [0.32442479 0.67557521]\n",
      " ...\n",
      " [0.99297778 0.00702222]\n",
      " [0.9025011  0.0974989 ]\n",
      " [0.75413855 0.24586145]]\n"
     ]
    }
   ],
   "source": [
    "Gy2pred_prob=logistic.predict_proba(g_test)\n",
    "print(Gy2pred_prob)"
   ]
  },
  {
   "cell_type": "code",
   "execution_count": 32,
   "id": "38603ee4",
   "metadata": {},
   "outputs": [
    {
     "name": "stdout",
     "output_type": "stream",
     "text": [
      "            LOAN_ID    NMONTHS  FORECLOSURE\n",
      "0      ICIHCHIADIIC  32.668253          0.0\n",
      "1      HBBAFDJBJJEC  77.404789          0.0\n",
      "2      CGEBEHJDCCBG  51.100108          0.0\n",
      "3      HCDGFDIDAEGE  97.703619          0.0\n",
      "4      AGAHJDCEEFEI  48.699685          0.0\n",
      "...             ...        ...          ...\n",
      "99995  CDEHJHAGEGJC  76.794369          0.0\n",
      "99996  IAAHCBBFDCCJ  84.431207          0.0\n",
      "99997  JECEDABADAHF  57.180248          0.0\n",
      "99998  FCDJIGJCGAJF  39.668084          0.0\n",
      "99999  CDEHHGFEICAF  81.185956          0.0\n",
      "\n",
      "[100000 rows x 3 columns]\n"
     ]
    }
   ],
   "source": [
    "ysort=np.sort(Gy2pred_prob[:,1])\n",
    "l=len(g_test)\n",
    "n=0\n",
    "threshold=ysort[-1000]\n",
    "Gy2=np.zeros(l)\n",
    "for i in range(l):\n",
    "    if Gy2pred_prob[:,1][i]<threshold:\n",
    "        Gy2[i]=0\n",
    "    else:\n",
    "        Gy2[i]=1 \n",
    "        n+=1\n",
    "\n",
    "Gy2=pd.DataFrame(Gy2.reshape(-1,1))\n",
    "Gy2.columns=['FORECLOSURE']\n",
    "test2=pd.concat([test,Gy2],axis=1)\n",
    "print(test2)"
   ]
  },
  {
   "cell_type": "code",
   "execution_count": 33,
   "id": "51d8be88",
   "metadata": {},
   "outputs": [],
   "source": [
    "test2.to_csv(\"preds.csv\",index=False)"
   ]
  },
  {
   "cell_type": "markdown",
   "id": "61af19f0",
   "metadata": {},
   "source": [
    "**Test the vaildation of preds file**"
   ]
  },
  {
   "cell_type": "code",
   "execution_count": 36,
   "id": "8dc29067",
   "metadata": {},
   "outputs": [],
   "source": [
    "import pandas as pd\n",
    "import re\n",
    "\n",
    "def test_prediction_file(fileid):\n",
    "    try:\n",
    "        dtypes={\"LOAN_ID\":\"object\",\"NMONTHS\":\"float\",\"FORECLOSURE\":\"float\"}\n",
    "        df=pd.read_csv(fileid,dtype=dtypes)\n",
    "    except:\n",
    "        print(\"Error: Your file is unreadable\")\n",
    "        return\n",
    "\n",
    "    def LIDcheck(x):\n",
    "        if re.match(\"[A-Z]{12}\",x):\n",
    "            return(True)\n",
    "        return(False)\n",
    "    \n",
    "    \n",
    "    if df.shape[0]!=100000:\n",
    "        print(\"Error: your file should have 100,000 rows\")\n",
    "        print(\"       not including the header row\")\n",
    "        return\n",
    "    if df.shape[1]<3:\n",
    "        print(\"Error: your file does not have enough columns\")\n",
    "        return\n",
    "    if \"LOAN_ID\" not in df.columns:\n",
    "        print(\"Error: your file does not have a LOAN_ID column\")\n",
    "    else:\n",
    "        LIDCHECKS=df.LOAN_ID.apply(LIDcheck).sum()==100000\n",
    "        if not LIDCHECKS:\n",
    "            print(\"Error: Your LOAN_ID's should all be\")\n",
    "            print(\"       consist of upper case alphabetic characters\")\n",
    "            return\n",
    "        if df.dtypes.LOAN_ID!=\"object\":\n",
    "            print(\"Error: your LOAN_ID column is not the correct type\")\n",
    "            print(\"       should be 'object'\")\n",
    "            return\n",
    "        if df.LOAN_ID.nunique()!=100000:\n",
    "            print(\"Error: You do not have unique LOAN_ID values\")\n",
    "            return\n",
    "        if df.LOAN_ID.isnull().sum()>0:\n",
    "            print(\"Error: You have missing LOAN_ID's\")\n",
    "        if df.LOAN_ID.apply(len).apply(lambda x:x==12).sum()!=100000:\n",
    "            print(\"Error: All LOAN_ID's should have length 12\")\n",
    "            return\n",
    "        \n",
    "    if \"NMONTHS\" not in df.columns:\n",
    "        print(\"Error: your file does not have an NMONTHS column\")\n",
    "        return\n",
    "    if df.NMONTHS.isnull().sum()>0:\n",
    "        print(\"Error: you have missing values in your NMONTHS column\")\n",
    "        return\n",
    "    if \"FORECLOSURE\" not in df.columns:\n",
    "        print(\"Error: your file does not have a FORECLOSURE column\")\n",
    "        return\n",
    "    if df.FORECLOSURE.isnull().sum()>0:\n",
    "        print(\"Error: you have missing values in your FORECLOSURE column\")\n",
    "    if (df.FORECLOSURE==0.).sum()!=99000:\n",
    "        print(\"Error: your FORECLOSURE column should contain 99,000 zeros\")\n",
    "    if (df.FORECLOSURE==1.).sum()!=1000:\n",
    "        print(\"Error: your FORECLOSURE column should contain 1,000 ones\")"
   ]
  },
  {
   "cell_type": "code",
   "execution_count": 37,
   "id": "674e826a",
   "metadata": {},
   "outputs": [],
   "source": [
    "test_prediction_file(\"preds.csv\")"
   ]
  },
  {
   "cell_type": "code",
   "execution_count": null,
   "id": "10365f56",
   "metadata": {},
   "outputs": [],
   "source": []
  }
 ],
 "metadata": {
  "kernelspec": {
   "display_name": "Python 3 (ipykernel)",
   "language": "python",
   "name": "python3"
  },
  "language_info": {
   "codemirror_mode": {
    "name": "ipython",
    "version": 3
   },
   "file_extension": ".py",
   "mimetype": "text/x-python",
   "name": "python",
   "nbconvert_exporter": "python",
   "pygments_lexer": "ipython3",
   "version": "3.9.12"
  }
 },
 "nbformat": 4,
 "nbformat_minor": 5
}
